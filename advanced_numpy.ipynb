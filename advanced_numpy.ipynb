{
 "cells": [
  {
   "cell_type": "markdown",
   "metadata": {},
   "source": [
    "# Main Topics:\n",
    "- Key differences between Python and Java\n",
    "    - Key Python utilities (list comprehensions, max, lambdas, functionals, (arg)max)\n",
    "    - Classes and OOP (self keyword and differences from Java)\n",
    "- Matrix/Array paradigm\n",
    "- Common Functions in numpy\n",
    "    - slicing\n",
    "    - appending\n",
    "    - conditional slicing\n",
    "    - element-wise operations\n",
    "    - matrix multiplication\n",
    "- Advantages of numpy\n",
    "- Common pitfalls with notebooks (importing modified files)"
   ]
  },
  {
   "cell_type": "markdown",
   "metadata": {},
   "source": [
    "## Format\n",
    "This notebook will be used as a lecture guide.\n",
    "iClicker Questions will be used to do checks of:\n",
    "- What the class knows/is familiar with\n",
    "- Predicting output of programs\n",
    "- Random questions (S)am wants answered"
   ]
  },
  {
   "cell_type": "markdown",
   "metadata": {},
   "source": [
    "___\n",
    "\n",
    "# Clicker Question 0:\n",
    "Use your knowledge of decision trees to answer this question!"
   ]
  },
  {
   "cell_type": "raw",
   "metadata": {},
   "source": [
    "if comfortable_with_python:\n",
    "    if comfortable_with_numpy:\n",
    "        return 'A'\n",
    "    else:\n",
    "        return 'B'\n",
    "else:\n",
    "    if comfortable_with_java:\n",
    "        return 'C'\n",
    "    else:\n",
    "        if comfortable_with_matlab:\n",
    "            return 'D'\n",
    "        else:\n",
    "            return 'E'"
   ]
  },
  {
   "cell_type": "markdown",
   "metadata": {},
   "source": [
    "# Must Know about Python!\n",
    "- whitespace matters\n",
    "- no semicolons\n",
    "- use collections!"
   ]
  },
  {
   "cell_type": "code",
   "execution_count": 1,
   "metadata": {},
   "outputs": [
    {
     "name": "stdout",
     "output_type": "stream",
     "text": [
      "range(0, 10)\n"
     ]
    }
   ],
   "source": [
    "iterable = range(10)  # Creates an iterable that goes from 0 to 9\n",
    "print(iterable)\n",
    "# dir(iterable)  # Shows what you can do with it."
   ]
  },
  {
   "cell_type": "code",
   "execution_count": 2,
   "metadata": {},
   "outputs": [
    {
     "name": "stdout",
     "output_type": "stream",
     "text": [
      "[0, 1, 2, 3, 4, 5, 6, 7, 8, 9]\n",
      "{0, 1, 2, 3, 4, 5, 6, 7, 8, 9}\n",
      "{0: 0, 1: 1, 2: 4, 3: 9, 4: 16, 5: 25, 6: 36, 7: 49, 8: 64, 9: 81}\n"
     ]
    }
   ],
   "source": [
    "some_list = list(iterable)  # Converts to a list. Python does not use proper 'arrays' naturally.\n",
    "print(some_list)\n",
    "some_set = set(iterable)\n",
    "print(some_set)\n",
    "some_dict = {i: i*i for i in iterable}  # This is the \"List Comprehension\" syntax\n",
    "print(some_dict)"
   ]
  },
  {
   "cell_type": "code",
   "execution_count": 3,
   "metadata": {},
   "outputs": [
    {
     "name": "stdout",
     "output_type": "stream",
     "text": [
      "64\n"
     ]
    }
   ],
   "source": [
    "print(some_dict[8])"
   ]
  },
  {
   "cell_type": "code",
   "execution_count": 4,
   "metadata": {},
   "outputs": [
    {
     "name": "stdout",
     "output_type": "stream",
     "text": [
      "{3: 9, 5: 25, 6: 36, 9: 81}\n"
     ]
    }
   ],
   "source": [
    "l1 = [3, 5, 6, 9]\n",
    "d1 = {i:i*i for i in l1}\n",
    "print(d1)"
   ]
  },
  {
   "cell_type": "code",
   "execution_count": 5,
   "metadata": {},
   "outputs": [
    {
     "name": "stdout",
     "output_type": "stream",
     "text": [
      "[-1, 1, 3, 5, 7]\n"
     ]
    }
   ],
   "source": [
    "some_list = [i - 1 for i in range(10) if (i%2 == 0)]\n",
    "print(some_list)"
   ]
  },
  {
   "cell_type": "markdown",
   "metadata": {},
   "source": [
    "# Clicker Question 1:\n",
    "Predict the output of the cell below:  \n",
    "A. [0, 1, 2]  \n",
    "B. [[0, 1, 2], [0, 1, 2], [0, 1, 2]]  \n",
    "C. [0, 1, 2, 1, 2, 3, 2, 3, 4]  \n",
    "D. [[0, 1, 2], [1, 2, 3], [2, 3, 4]]  \n",
    "E. Error"
   ]
  },
  {
   "cell_type": "code",
   "execution_count": 6,
   "metadata": {},
   "outputs": [
    {
     "name": "stdout",
     "output_type": "stream",
     "text": [
      "[[0, 1, 2], [1, 2, 3], [2, 3, 4]]\n"
     ]
    }
   ],
   "source": [
    "print([[j for j in range(i, i+3)] for i in range(3)])"
   ]
  },
  {
   "cell_type": "code",
   "execution_count": 7,
   "metadata": {},
   "outputs": [
    {
     "name": "stdout",
     "output_type": "stream",
     "text": [
      "[25, 16, 9, 4, 1, 0, 1, 4, 9, 16]  max:  25 , min:  0\n"
     ]
    }
   ],
   "source": [
    "data = [(i-5) * (i-5) for i in range(10)]\n",
    "print(data, \" max: \", max(data), \", min: \", min(data))"
   ]
  },
  {
   "cell_type": "code",
   "execution_count": 8,
   "metadata": {},
   "outputs": [
    {
     "name": "stdout",
     "output_type": "stream",
     "text": [
      "[0, 2, 4, 6, 8]\n",
      "[0, 3, 6, 9, 12]\n"
     ]
    }
   ],
   "source": [
    "# Detour into lambdas - Functions can be treated as objects\n",
    "def function_maker(factor_to_multiply_by):\n",
    "    return (lambda input_number: factor_to_multiply_by * input_number)\n",
    "\n",
    "doubler = function_maker(2)\n",
    "print([doubler(i) for i in range(5)])\n",
    "tripler = function_maker(3)\n",
    "print([tripler(i) for i in range(5)])"
   ]
  },
  {
   "cell_type": "code",
   "execution_count": 9,
   "metadata": {},
   "outputs": [
    {
     "name": "stdout",
     "output_type": "stream",
     "text": [
      "5\n"
     ]
    }
   ],
   "source": [
    "# (arg)min\n",
    "print(min(range(10), key=lambda value: (value-5.2)*(value-5.2)))\n",
    "# Python allows named parameters, like 'key' for when there are long lists of optional parameters.\n",
    "# The lambda object created here is passed as the parameter called \"key\". See below for a clearer example."
   ]
  },
  {
   "cell_type": "code",
   "execution_count": 10,
   "metadata": {},
   "outputs": [
    {
     "name": "stdout",
     "output_type": "stream",
     "text": [
      "0\n"
     ]
    }
   ],
   "source": [
    "data = [5, 0, 4, 7]\n",
    "print(min(data))"
   ]
  },
  {
   "cell_type": "code",
   "execution_count": 11,
   "metadata": {},
   "outputs": [
    {
     "name": "stdout",
     "output_type": "stream",
     "text": [
      "1\n"
     ]
    }
   ],
   "source": [
    "print(min(range(len(data)), key=(lambda index: data[index])))"
   ]
  },
  {
   "cell_type": "code",
   "execution_count": 12,
   "metadata": {},
   "outputs": [],
   "source": [
    "# https://docs.python.org/3/tutorial/classes.html\n",
    "\n",
    "class SimpleClass():\n",
    "    def __init__(self, input_data):\n",
    "        self.input_data = input_data\n",
    "    \n",
    "    def __str__(self):\n",
    "        return \"SimpleClass String Representation: \" + str(self.input_data)\n",
    "    \n",
    "    def other_method(self, param1, param2):\n",
    "        pass  # The pass keyword tells the interpreter that the method isn't supposed to do anything yet."
   ]
  },
  {
   "cell_type": "code",
   "execution_count": 13,
   "metadata": {},
   "outputs": [
    {
     "name": "stdout",
     "output_type": "stream",
     "text": [
      "SimpleClass String Representation: [0.0, 0.5, 1.0, 1.5, 2.0, 2.5, 3.0, 3.5, 4.0, 4.5]\n"
     ]
    }
   ],
   "source": [
    "sc = SimpleClass([i * .5 for i in range(10)])\n",
    "print(sc)"
   ]
  },
  {
   "cell_type": "code",
   "execution_count": 14,
   "metadata": {},
   "outputs": [
    {
     "name": "stdout",
     "output_type": "stream",
     "text": [
      "5\n"
     ]
    },
    {
     "ename": "AttributeError",
     "evalue": "'SimpleClass' object has no attribute 'some_field_that_I_make_up'",
     "output_type": "error",
     "traceback": [
      "\u001b[1;31m---------------------------------------------------------------------------\u001b[0m",
      "\u001b[1;31mAttributeError\u001b[0m                            Traceback (most recent call last)",
      "\u001b[1;32m<ipython-input-14-5f52b3f1f569>\u001b[0m in \u001b[0;36m<module>\u001b[1;34m()\u001b[0m\n\u001b[0;32m      5\u001b[0m \u001b[0mprint\u001b[0m\u001b[1;33m(\u001b[0m\u001b[0msc\u001b[0m\u001b[1;33m.\u001b[0m\u001b[0msome_field_that_I_make_up\u001b[0m\u001b[1;33m)\u001b[0m\u001b[1;33m\u001b[0m\u001b[0m\n\u001b[0;32m      6\u001b[0m \u001b[1;32mdel\u001b[0m\u001b[1;33m(\u001b[0m\u001b[0msc\u001b[0m\u001b[1;33m.\u001b[0m\u001b[0msome_field_that_I_make_up\u001b[0m\u001b[1;33m)\u001b[0m\u001b[1;33m\u001b[0m\u001b[0m\n\u001b[1;32m----> 7\u001b[1;33m \u001b[0mprint\u001b[0m\u001b[1;33m(\u001b[0m\u001b[0msc\u001b[0m\u001b[1;33m.\u001b[0m\u001b[0msome_field_that_I_make_up\u001b[0m\u001b[1;33m)\u001b[0m\u001b[1;33m\u001b[0m\u001b[0m\n\u001b[0m",
      "\u001b[1;31mAttributeError\u001b[0m: 'SimpleClass' object has no attribute 'some_field_that_I_make_up'"
     ]
    }
   ],
   "source": [
    "# This example was generated in class showing that instance variables can be created on the fly.\n",
    "# General good practice is to create all the instance variables you will use in __init__.\n",
    "\n",
    "sc.some_field_that_I_make_up = 5\n",
    "print(sc.some_field_that_I_make_up)\n",
    "del(sc.some_field_that_I_make_up)\n",
    "print(sc.some_field_that_I_make_up)"
   ]
  },
  {
   "cell_type": "markdown",
   "metadata": {},
   "source": [
    "# Clicker Question 2:\n",
    "Suppose I run this code, and SomeClass exists:  \n",
    "some_instance = SomeClass()  \n",
    "print(some_instance.some_method(a, b))  \n",
    "\n",
    "How many arguments are passed to \"some_method\"?  \n",
    "A. 0  \n",
    "B. 1  \n",
    "C. 2  \n",
    "D. 3  \n",
    "E. 4  "
   ]
  },
  {
   "cell_type": "markdown",
   "metadata": {},
   "source": [
    "### Post-Class Answer:\n",
    "There are 3 arguments. There are two that are readily apparent (`a` and `b`), but `some_instance` is actually passed as a first parameter and is bound to `self` in the instance method declaration.  In Python, methods are defined with respect to a class, and the calling instance is passed as a parameter."
   ]
  },
  {
   "cell_type": "markdown",
   "metadata": {},
   "source": [
    "___\n",
    "# Numpy\n",
    "Time to start thinking in terms of matrices and parallel data.  \n",
    "There are a few ways to create matrices in Numpy:"
   ]
  },
  {
   "cell_type": "code",
   "execution_count": 15,
   "metadata": {
    "collapsed": true
   },
   "outputs": [],
   "source": [
    "import numpy as np"
   ]
  },
  {
   "cell_type": "code",
   "execution_count": 16,
   "metadata": {},
   "outputs": [
    {
     "name": "stdout",
     "output_type": "stream",
     "text": [
      "(4,)\n",
      "[1 8 2 7]\n"
     ]
    }
   ],
   "source": [
    "arr1 = np.array([1, 8, 2, 7])\n",
    "print(arr1.shape)\n",
    "print(arr1)"
   ]
  },
  {
   "cell_type": "code",
   "execution_count": 17,
   "metadata": {},
   "outputs": [
    {
     "name": "stdout",
     "output_type": "stream",
     "text": [
      "(4,)\n",
      "[0 1 2 3]\n"
     ]
    }
   ],
   "source": [
    "arr2 = np.arange(4)  # Note that this is \"a. range\", not \"arrange\". Short for \"Array Range\".\n",
    "print(arr2.shape)\n",
    "print(arr2)"
   ]
  },
  {
   "cell_type": "markdown",
   "metadata": {},
   "source": [
    "# Clicker Question 3\n",
    "How many rows does arr3 have after running the cell below:  \n",
    "A. 4  \n",
    "B. 5  \n",
    "C. I don't know.  \n",
    "D. I don't care.  \n",
    "E. I'm selecting this answer even though I know it's wrong because I've been deceived into thinking being counter-cultural is always a good thing.  "
   ]
  },
  {
   "cell_type": "code",
   "execution_count": 18,
   "metadata": {},
   "outputs": [
    {
     "name": "stdout",
     "output_type": "stream",
     "text": [
      "(4, 5)\n",
      "[[ 0  1  2  3  4]\n",
      " [ 5  6  7  8  9]\n",
      " [10 11 12 13 14]\n",
      " [15 16 17 18 19]]\n"
     ]
    }
   ],
   "source": [
    "arr3 = np.arange(20).reshape((4,5))\n",
    "print(arr3.shape)\n",
    "print(arr3)"
   ]
  },
  {
   "cell_type": "code",
   "execution_count": 19,
   "metadata": {},
   "outputs": [
    {
     "name": "stdout",
     "output_type": "stream",
     "text": [
      "(4, 5)\n",
      "[[ 0.  0.  0.  0.  0.]\n",
      " [ 0.  0.  0.  0.  0.]\n",
      " [ 0.  0.  0.  0.  0.]\n",
      " [ 0.  0.  0.  0.  0.]]\n"
     ]
    }
   ],
   "source": [
    "arr4 = np.zeros((4,5))\n",
    "print(arr4.shape)\n",
    "print(arr4)"
   ]
  },
  {
   "cell_type": "code",
   "execution_count": 20,
   "metadata": {},
   "outputs": [
    {
     "name": "stdout",
     "output_type": "stream",
     "text": [
      "[[ 0.5  0.5  0.5  0.5  0.5]\n",
      " [ 0.5  0.5  0.5  0.5  0.5]\n",
      " [ 0.5  0.5  0.5  0.5  0.5]\n",
      " [ 0.5  0.5  0.5  0.5  0.5]]\n",
      "[[ 1.  1.  1.  1.  1.]\n",
      " [ 1.  1.  1.  1.  1.]\n",
      " [ 1.  1.  1.  1.  1.]\n",
      " [ 1.  1.  1.  1.  1.]]\n"
     ]
    }
   ],
   "source": [
    "arr4_1 = arr4 + .5\n",
    "print(arr4_1)\n",
    "arr4_2 = arr4_1 * 2\n",
    "print(arr4_2)"
   ]
  },
  {
   "cell_type": "code",
   "execution_count": 21,
   "metadata": {},
   "outputs": [
    {
     "name": "stdout",
     "output_type": "stream",
     "text": [
      "(5, 4)\n",
      "[[ 1.  1.  1.  1.]\n",
      " [ 1.  1.  1.  1.]\n",
      " [ 1.  1.  1.  1.]\n",
      " [ 1.  1.  1.  1.]\n",
      " [ 1.  1.  1.  1.]]\n"
     ]
    }
   ],
   "source": [
    "arr5 = np.ones((5,4))\n",
    "print(arr5.shape)\n",
    "print(arr5)"
   ]
  },
  {
   "cell_type": "code",
   "execution_count": 22,
   "metadata": {},
   "outputs": [
    {
     "name": "stdout",
     "output_type": "stream",
     "text": [
      "(4, 4)\n",
      "[[ 1.  0.  0.  0.]\n",
      " [ 0.  1.  0.  0.]\n",
      " [ 0.  0.  1.  0.]\n",
      " [ 0.  0.  0.  1.]]\n"
     ]
    }
   ],
   "source": [
    "arr6 = np.identity(4)\n",
    "print(arr6.shape)\n",
    "print(arr6)"
   ]
  },
  {
   "cell_type": "code",
   "execution_count": 23,
   "metadata": {},
   "outputs": [
    {
     "name": "stdout",
     "output_type": "stream",
     "text": [
      "[[  1.   0.   0.   0.]\n",
      " [ 42.   1.   0.   0.]\n",
      " [  0.   0.   1.   0.]\n",
      " [  0.   0.   0.   1.]]\n"
     ]
    }
   ],
   "source": [
    "arr6[1,0] = 42 # We can do assignment to any indexed/sliced submatrix\n",
    "print(arr6)"
   ]
  },
  {
   "cell_type": "markdown",
   "metadata": {},
   "source": [
    "# Slicing\n",
    "Numpy extends the indexing syntax of arrays to allow selection of contiguous submatrices, or even conditional selection.\n",
    "Numpy also allows appending of matrices."
   ]
  },
  {
   "cell_type": "code",
   "execution_count": 24,
   "metadata": {
    "collapsed": true
   },
   "outputs": [],
   "source": [
    "from sklearn import datasets\n",
    "from matplotlib import pyplot as plt"
   ]
  },
  {
   "cell_type": "code",
   "execution_count": 25,
   "metadata": {},
   "outputs": [
    {
     "name": "stdout",
     "output_type": "stream",
     "text": [
      "Data:  (150, 4)\n",
      "Data Transposed:  (4, 150)\n",
      "Labels:  (150,)\n"
     ]
    }
   ],
   "source": [
    "iris = datasets.load_iris()\n",
    "iris_data = iris.data\n",
    "iris_labels = iris.target\n",
    "print(\"Data: \", iris_data.shape)\n",
    "print(\"Data Transposed: \", iris_data.T.shape)  # Note the .T used to get the transpose.\n",
    "print(\"Labels: \", iris_labels.shape)"
   ]
  },
  {
   "cell_type": "code",
   "execution_count": 26,
   "metadata": {},
   "outputs": [
    {
     "name": "stdout",
     "output_type": "stream",
     "text": [
      "(50, 2)\n"
     ]
    }
   ],
   "source": [
    "# https://docs.scipy.org/doc/numpy-1.13.0/user/basics.indexing.html\n",
    "\n",
    "# Select only the second 2 features in the middle 50 rows:\n",
    "subset_data = iris_data[50:100, 2:]\n",
    "print(subset_data.shape)"
   ]
  },
  {
   "cell_type": "code",
   "execution_count": 27,
   "metadata": {},
   "outputs": [
    {
     "data": {
      "image/png": "[encoded data removed]",
      "text/plain": [
       "<matplotlib.figure.Figure at 0x1f986618e48>"
      ]
     },
     "metadata": {},
     "output_type": "display_data"
    }
   ],
   "source": [
    "plt.scatter(subset_data[:,0], subset_data[:,1], c=iris_labels[50:100])\n",
    "plt.show()"
   ]
  },
  {
   "cell_type": "markdown",
   "metadata": {},
   "source": [
    "(For those with too much time on your hands, you may notice only 36 points, which is not the 50 we sliced. In the iris dataset, measurements were only made to the nearest tenth of a centimeter, leading to some points having identical coordinates in this 2D subspace.)"
   ]
  },
  {
   "cell_type": "code",
   "execution_count": 28,
   "metadata": {},
   "outputs": [
    {
     "name": "stdout",
     "output_type": "stream",
     "text": [
      "[0 0 0 0 0 0 1 0 0 1]\n"
     ]
    },
    {
     "data": {
      "image/png": "[encoded data removed]",
      "text/plain": [
       "<matplotlib.figure.Figure at 0x1f985ec1ba8>"
      ]
     },
     "metadata": {},
     "output_type": "display_data"
    }
   ],
   "source": [
    "moons_data, moons_labels = datasets.make_moons(n_samples=200, noise=.05)\n",
    "print(moons_labels[:10])  # The points from the different classes are all mixed up.\n",
    "plt.scatter(moons_data[:,0], moons_data[:,1], c=moons_labels)\n",
    "plt.show()"
   ]
  },
  {
   "cell_type": "code",
   "execution_count": 29,
   "metadata": {},
   "outputs": [
    {
     "name": "stdout",
     "output_type": "stream",
     "text": [
      "(200, 2)\n",
      "(200,)\n"
     ]
    },
    {
     "ename": "ValueError",
     "evalue": "all the input arrays must have same number of dimensions",
     "output_type": "error",
     "traceback": [
      "\u001b[1;31m---------------------------------------------------------------------------\u001b[0m",
      "\u001b[1;31mValueError\u001b[0m                                Traceback (most recent call last)",
      "\u001b[1;32m<ipython-input-29-457d8ebcfd9c>\u001b[0m in \u001b[0;36m<module>\u001b[1;34m()\u001b[0m\n\u001b[0;32m      2\u001b[0m \u001b[0mprint\u001b[0m\u001b[1;33m(\u001b[0m\u001b[0mmoons_data\u001b[0m\u001b[1;33m.\u001b[0m\u001b[0mshape\u001b[0m\u001b[1;33m)\u001b[0m\u001b[1;33m\u001b[0m\u001b[0m\n\u001b[0;32m      3\u001b[0m \u001b[0mprint\u001b[0m\u001b[1;33m(\u001b[0m\u001b[0mmoons_labels\u001b[0m\u001b[1;33m.\u001b[0m\u001b[0mshape\u001b[0m\u001b[1;33m)\u001b[0m\u001b[1;33m\u001b[0m\u001b[0m\n\u001b[1;32m----> 4\u001b[1;33m \u001b[0mcombined\u001b[0m \u001b[1;33m=\u001b[0m \u001b[0mnp\u001b[0m\u001b[1;33m.\u001b[0m\u001b[0mappend\u001b[0m\u001b[1;33m(\u001b[0m\u001b[0mmoons_data\u001b[0m\u001b[1;33m,\u001b[0m \u001b[0mmoons_labels\u001b[0m\u001b[1;33m,\u001b[0m \u001b[1;36m1\u001b[0m\u001b[1;33m)\u001b[0m  \u001b[1;31m# 1 is the dimension along which the appending happens.  0 for rows, 1 for columns.\u001b[0m\u001b[1;33m\u001b[0m\u001b[0m\n\u001b[0m\u001b[0;32m      5\u001b[0m \u001b[0mprint\u001b[0m \u001b[1;33m(\u001b[0m\u001b[0mcombined\u001b[0m\u001b[1;33m.\u001b[0m\u001b[0mshape\u001b[0m\u001b[1;33m)\u001b[0m\u001b[1;33m\u001b[0m\u001b[0m\n",
      "\u001b[1;32mC:\\ProgramData\\Anaconda3\\lib\\site-packages\\numpy\\lib\\function_base.py\u001b[0m in \u001b[0;36mappend\u001b[1;34m(arr, values, axis)\u001b[0m\n\u001b[0;32m   5150\u001b[0m         \u001b[0mvalues\u001b[0m \u001b[1;33m=\u001b[0m \u001b[0mravel\u001b[0m\u001b[1;33m(\u001b[0m\u001b[0mvalues\u001b[0m\u001b[1;33m)\u001b[0m\u001b[1;33m\u001b[0m\u001b[0m\n\u001b[0;32m   5151\u001b[0m         \u001b[0maxis\u001b[0m \u001b[1;33m=\u001b[0m \u001b[0marr\u001b[0m\u001b[1;33m.\u001b[0m\u001b[0mndim\u001b[0m\u001b[1;33m-\u001b[0m\u001b[1;36m1\u001b[0m\u001b[1;33m\u001b[0m\u001b[0m\n\u001b[1;32m-> 5152\u001b[1;33m     \u001b[1;32mreturn\u001b[0m \u001b[0mconcatenate\u001b[0m\u001b[1;33m(\u001b[0m\u001b[1;33m(\u001b[0m\u001b[0marr\u001b[0m\u001b[1;33m,\u001b[0m \u001b[0mvalues\u001b[0m\u001b[1;33m)\u001b[0m\u001b[1;33m,\u001b[0m \u001b[0maxis\u001b[0m\u001b[1;33m=\u001b[0m\u001b[0maxis\u001b[0m\u001b[1;33m)\u001b[0m\u001b[1;33m\u001b[0m\u001b[0m\n\u001b[0m",
      "\u001b[1;31mValueError\u001b[0m: all the input arrays must have same number of dimensions"
     ]
    }
   ],
   "source": [
    "# Let's filter for only one half-circle.  Start by appending labels to data.\n",
    "print(moons_data.shape)\n",
    "print(moons_labels.shape)\n",
    "combined = np.append(moons_data, moons_labels, 1)  # 1 is the dimension along which the appending happens.  0 for rows, 1 for columns.\n",
    "print (combined.shape)"
   ]
  },
  {
   "cell_type": "code",
   "execution_count": 30,
   "metadata": {},
   "outputs": [
    {
     "name": "stdout",
     "output_type": "stream",
     "text": [
      "(200, 2)\n",
      "(200, 1)\n",
      "(200, 3)\n"
     ]
    }
   ],
   "source": [
    "print(moons_data.shape)\n",
    "moons_labels = moons_labels.reshape(len(moons_labels), 1)\n",
    "print(moons_labels.shape)\n",
    "combined = np.append(moons_data, moons_labels, 1)  # 1 is the dimension along which the appending happens.  0 for rows, 1 for columns.\n",
    "print (combined.shape)"
   ]
  },
  {
   "cell_type": "code",
   "execution_count": 31,
   "metadata": {},
   "outputs": [
    {
     "data": {
      "image/png": "[encoded data removed]",
      "text/plain": [
       "<matplotlib.figure.Figure at 0x1f9862936a0>"
      ]
     },
     "metadata": {},
     "output_type": "display_data"
    }
   ],
   "source": [
    "condition = combined[:,2]==0  # This is subtle. First, we select the final column.  Then, an element-wise boolean operation is performed.\n",
    "circle_0 = combined[condition]\n",
    "plt.scatter(circle_0[:,0], circle_0[:,1], c=circle_0[:,2])\n",
    "plt.show()"
   ]
  },
  {
   "cell_type": "markdown",
   "metadata": {},
   "source": [
    "# Matrix Multiplication!"
   ]
  },
  {
   "cell_type": "code",
   "execution_count": 32,
   "metadata": {},
   "outputs": [
    {
     "name": "stdout",
     "output_type": "stream",
     "text": [
      "[[1 1]\n",
      " [1 0]]\n"
     ]
    }
   ],
   "source": [
    "fib_mat = np.array([[1, 1], [1, 0]])\n",
    "print(fib_mat)"
   ]
  },
  {
   "cell_type": "code",
   "execution_count": 33,
   "metadata": {},
   "outputs": [
    {
     "name": "stdout",
     "output_type": "stream",
     "text": [
      "[[2 1]\n",
      " [1 1]]\n",
      "[[3 2]\n",
      " [2 1]]\n",
      "[[5 3]\n",
      " [3 2]]\n"
     ]
    }
   ],
   "source": [
    "print(fib_mat @ fib_mat)\n",
    "print(fib_mat @ fib_mat @ fib_mat)\n",
    "print(fib_mat @ fib_mat @ fib_mat @ fib_mat)"
   ]
  },
  {
   "cell_type": "code",
   "execution_count": 34,
   "metadata": {},
   "outputs": [
    {
     "name": "stdout",
     "output_type": "stream",
     "text": [
      "[[8 5]\n",
      " [5 3]]\n"
     ]
    }
   ],
   "source": [
    "print(np.linalg.matrix_power(fib_mat, 5))"
   ]
  },
  {
   "cell_type": "markdown",
   "metadata": {},
   "source": [
    "# Non-Clicker Question:\n",
    "If we were to write our own fibonacci computing function, what are some things we could do to make it as fast as possible?"
   ]
  },
  {
   "cell_type": "code",
   "execution_count": 35,
   "metadata": {},
   "outputs": [],
   "source": [
    "def numpy_fib(n):\n",
    "    return np.linalg.matrix_power(fib_mat, n-1)[0,0]\n",
    "\n",
    "def by_hand_mat_mult(two_by_two_matrix, two_by_two_matrix_2):\n",
    "    tbt = two_by_two_matrix\n",
    "    tbt2 = two_by_two_matrix_2\n",
    "    return [[tbt[0][0]*tbt2[0][0] + tbt[0][1] * tbt2[1][0], tbt[0][0]*tbt2[0][1] + tbt[0][1] * tbt2[1][1]],\n",
    "            [tbt[1][0]*tbt2[0][0] + tbt[1][1] * tbt2[1][0], tbt[1][0]*tbt2[0][1] + tbt[1][1] * tbt2[1][1]]]\n",
    "\n",
    "def by_hand_mat_exp(matr, n):\n",
    "    if n<=1:\n",
    "        return matr\n",
    "    elif n%2==0:\n",
    "        sub_mat = by_hand_mat_exp(matr, n/2)\n",
    "        return by_hand_mat_mult(sub_mat, sub_mat)\n",
    "    else:\n",
    "        return by_hand_mat_mult(matr, by_hand_mat_exp(matr, n-1))\n",
    "\n",
    "def by_hand_fib(n):\n",
    "    return by_hand_mat_exp(fib_mat, n-1)[0][0]"
   ]
  },
  {
   "cell_type": "code",
   "execution_count": 36,
   "metadata": {},
   "outputs": [
    {
     "name": "stdout",
     "output_type": "stream",
     "text": [
      "8\n",
      "8\n"
     ]
    }
   ],
   "source": [
    "print(numpy_fib(6))\n",
    "print(by_hand_fib(6))"
   ]
  },
  {
   "cell_type": "code",
   "execution_count": 37,
   "metadata": {
    "collapsed": true
   },
   "outputs": [],
   "source": [
    "# Ignore this - just some timing and utilities:\n",
    "\n",
    "# Series Statistics: Utilities\n",
    "def mean_sd_se(list_of_values):\n",
    "    mean = sum(list_of_values)/max(1, len(list_of_values))\n",
    "    var = sum([(value - mean)*(value - mean) for value in list_of_values])/max(1, len(list_of_values))\n",
    "    std_dev = math.sqrt(var)\n",
    "    std_err = std_dev/math.sqrt(max(1, len(list_of_values)))\n",
    "    return (mean, std_dev, std_err)\n",
    "\n",
    "def series_statistics(list_of_lists):\n",
    "    means = []\n",
    "    std_devs = []\n",
    "    std_errs = []\n",
    "    for list_of_values in list_of_lists:\n",
    "        (mean, sd, se) = mean_sd_se(list_of_values)\n",
    "        means.append(mean)\n",
    "        std_devs.append(sd)\n",
    "        std_errs.append(se)\n",
    "    return (means, std_devs, std_errs)\n",
    "\n",
    "import timeit"
   ]
  },
  {
   "cell_type": "code",
   "execution_count": 38,
   "metadata": {},
   "outputs": [
    {
     "name": "stdout",
     "output_type": "stream",
     "text": [
      "index:  2\n",
      "index:  4\n",
      "index:  8\n",
      "index:  16\n",
      "index:  32\n",
      "index:  64\n"
     ]
    },
    {
     "name": "stderr",
     "output_type": "stream",
     "text": [
      "C:\\ProgramData\\Anaconda3\\lib\\site-packages\\ipykernel_launcher.py:7: RuntimeWarning: overflow encountered in long_scalars\n",
      "  import sys\n",
      "C:\\ProgramData\\Anaconda3\\lib\\site-packages\\ipykernel_launcher.py:8: RuntimeWarning: overflow encountered in long_scalars\n",
      "  \n"
     ]
    },
    {
     "name": "stdout",
     "output_type": "stream",
     "text": [
      "index:  128\n",
      "index:  256\n",
      "index:  512\n",
      "index:  1024\n",
      "index:  2048\n",
      "index:  4096\n",
      "index:  8192\n",
      "index:  16384\n",
      "index:  32768\n",
      "index:  65536\n",
      "index:  131072\n",
      "index:  262144\n",
      "index:  524288\n",
      "index:  1048576\n"
     ]
    },
    {
     "data": {
      "image/png": "[encoded data removed]",
      "text/plain": [
       "<matplotlib.figure.Figure at 0x1f9866f4f60>"
      ]
     },
     "metadata": {},
     "output_type": "display_data"
    }
   ],
   "source": [
    "# An experiment to compare the runtime of our implementation vs. the one-line numpy solution.\n",
    "\n",
    "import math\n",
    "timings = []\n",
    "timings_2 = []\n",
    "indices = [int(math.pow(2,i)) for i in range(1,20+1)]\n",
    "for index in indices:\n",
    "    print('index: ', index)\n",
    "    times = []\n",
    "    times_2 = []\n",
    "    for repeat_index in range(10000):\n",
    "        start_time = timeit.default_timer()\n",
    "        val = numpy_fib(index)\n",
    "        elapsed = timeit.default_timer() - start_time\n",
    "        times.append(elapsed)\n",
    "        start_time = timeit.default_timer()\n",
    "        val_2 = by_hand_fib(index)\n",
    "        elapsed = timeit.default_timer() - start_time\n",
    "        times_2.append(elapsed)\n",
    "    timings.append(times)\n",
    "    timings_2.append(times_2)\n",
    "(means, sds, ses) = series_statistics(timings)\n",
    "(means_2, sds_2, ses_2) = series_statistics(timings_2)\n",
    "plt.errorbar(indices, means, yerr=ses, label='numpy')\n",
    "plt.errorbar(indices, means_2, yerr=ses_2, label='by_hand')\n",
    "plt.legend()\n",
    "plt.ylabel('seconds')\n",
    "plt.xlabel('fibonacci index')\n",
    "plt.show()"
   ]
  },
  {
   "cell_type": "markdown",
   "metadata": {},
   "source": [
    "# Clicker Question 4:\n",
    "What, if anything should I use numpy for?  \n",
    "A. Nothing  \n",
    "B. Everything  \n",
    "C. Anything involving matrices  \n",
    "D. Everything involving matrices  \n",
    "E. What's the difference between C and D?"
   ]
  },
  {
   "cell_type": "markdown",
   "metadata": {},
   "source": [
    "# Final Note\n",
    "By default, Python only imports a module once; after that, future imports of the same module have no effect. This can catch you off guard if you are actively modifying a custom module that you import into a notebook. An easy fix is to restart the kernel when you modify an imported file. Alternately, `import importlib` and `importlib.reload(<package_name>)`. By doing most of your development in notebooks and then putting finished work in imported modules, you can have the best of both environments.\n",
    "\n",
    "Another common issue is modifying one collection and having those changes reflected in a different one (thanks to the person who pointed this out - I forgot to ask your name). This can happen when you have code like the _bottom_ cell below. This can be resolved by using the `copy` library from python (with `copy` or `deepcopy` functions), or by using `np.copy`.\n",
    "\n",
    "For more common Python \"gotcha's\", check out http://docs.python-guide.org/en/latest/writing/gotchas/."
   ]
  },
  {
   "cell_type": "code",
   "execution_count": 39,
   "metadata": {},
   "outputs": [
    {
     "data": {
      "text/plain": [
       "<module 'numpy' from 'C:\\\\ProgramData\\\\Anaconda3\\\\lib\\\\site-packages\\\\numpy\\\\__init__.py'>"
      ]
     },
     "execution_count": 39,
     "metadata": {},
     "output_type": "execute_result"
    }
   ],
   "source": [
    "import importlib\n",
    "importlib.reload(np)"
   ]
  },
  {
   "cell_type": "code",
   "execution_count": 40,
   "metadata": {},
   "outputs": [
    {
     "name": "stdout",
     "output_type": "stream",
     "text": [
      "[[  1   2   3   4   5   6   7   8   9  10]\n",
      " [ 11  12  13  14  15  16  17  18  19  20]\n",
      " [ 21  22  23  24  25  26  27  28  29  30]\n",
      " [ 31  32  33  34  35  36  37  38  39  40]\n",
      " [ 41  42  43  44  45  46  47  48  49  50]\n",
      " [ 51  52  53  54  55  -1  -1  -1  -1  60]\n",
      " [ 61  62  63  64  65  -1  -1  -1  -1  70]\n",
      " [ 71  72  73  74  75  -1  -1  -1  -1  80]\n",
      " [ 81  82  83  84  85  -1  -1  -1  -1  90]\n",
      " [ 91  92  93  94  95  96  97  98  99 100]] original\n",
      "[[  1   2   3   4   5   6   7   8   9  10]\n",
      " [ 11  12  13  14  15  16  17  18  19  20]\n",
      " [ 21  22  23  24  25  26  27  28  29  30]\n",
      " [ 31  32  33  34  35  36  37  38  39  40]\n",
      " [ 41  42  43  44  45  46  47  48  49  50]\n",
      " [ 51  52  53  54  55  -1  -1  -1  -1  60]\n",
      " [ 61  62  63  64  65  -1  -1  -1  -1  70]\n",
      " [ 71  72  73  74  75  -1  -1  -1  -1  80]\n",
      " [ 81  82  83  84  85  -1  -1  -1  -1  90]\n",
      " [ 91  92  93  94  95  96  97  98  99 100]] assignment\n",
      "[[  1   2   3   4   5   6   7   8   9  10]\n",
      " [ 11  12  13  14  15  16  17  18  19  20]\n",
      " [ 21  22  23  24  25  26  27  28  29  30]\n",
      " [ 31  32  33  34  35  36  37  38  39  40]\n",
      " [ 41  42  43  44  45  46  47  48  49  50]\n",
      " [ 51  52  53  54  55  56  57  58  59  60]\n",
      " [ 61  62  63  64  65  66  67  68  69  70]\n",
      " [ 71  72  73  74  75  76  77  78  79  80]\n",
      " [ 81  82  83  84  85  86  87  88  89  90]\n",
      " [ 91  92  93  94  95  96  97  98  99 100]] np.copy\n",
      "[[  1   2   3   4   5   6   7   8   9  10   1]\n",
      " [ 11  12  13  14  15  16  17  18  19  20  11]\n",
      " [ 21  22  23  24  25  26  27  28  29  30  21]\n",
      " [ 31  32  33  34  35  36  37  38  39  40  31]\n",
      " [ 41  42  43  44  45  46  47  48  49  50  41]\n",
      " [ 51  52  53  54  55  56  57  58  59  60  51]\n",
      " [ 61  62  63  64  65  66  67  68  69  70  61]\n",
      " [ 71  72  73  74  75  76  77  78  79  80  71]\n",
      " [ 81  82  83  84  85  86  87  88  89  90  81]\n",
      " [ 91  92  93  94  95  96  97  98  99 100  91]] np.append\n"
     ]
    }
   ],
   "source": [
    "npmat = np.arange(100).reshape((10,10)) + 1  # Creates table 1-100\n",
    "npmat_same = npmat\n",
    "npmat_different = np.copy(npmat)\n",
    "npmat_extended_different = np.append(npmat, npmat[:,0].reshape((len(npmat), 1)), 1)  # Appending (more columns here), creates a new matrix.\n",
    "npmat[5:9,5:9]=-1\n",
    "print(npmat, \"original\")\n",
    "print(npmat_same, \"assignment\")\n",
    "print(npmat_different, \"np.copy\")\n",
    "print(npmat_extended_different, \"np.append\")"
   ]
  },
  {
   "cell_type": "code",
   "execution_count": null,
   "metadata": {
    "collapsed": true
   },
   "outputs": [],
   "source": []
  }
 ],
 "metadata": {
  "kernelspec": {
   "display_name": "Python 3",
   "language": "python",
   "name": "python3"
  },
  "language_info": {
   "codemirror_mode": {
    "name": "ipython",
    "version": 3
   },
   "file_extension": ".py",
   "mimetype": "text/x-python",
   "name": "python",
   "nbconvert_exporter": "python",
   "pygments_lexer": "ipython3",
   "version": "3.6.3"
  }
 },
 "nbformat": 4,
 "nbformat_minor": 2
}
